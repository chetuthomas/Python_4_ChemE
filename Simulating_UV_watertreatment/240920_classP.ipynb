{
 "cells": [
  {
   "cell_type": "code",
   "execution_count": 18,
   "metadata": {},
   "outputs": [],
   "source": [
    "import matplotlib.pyplot as plt\n",
    "import numpy as np\n",
    "import scipy\n",
    "import  time\n",
    "import sympy as sym\n",
    "from math import exp"
   ]
  },
  {
   "cell_type": "code",
   "execution_count": 19,
   "metadata": {},
   "outputs": [
    {
     "name": "stdout",
     "output_type": "stream",
     "text": [
      "99.9999882444112\n"
     ]
    }
   ],
   "source": [
    "\n",
    "# Given values\n",
    "nin = 100\n",
    "FR = 6\n",
    "yEi = 1 / (FR + 1)\n",
    "p = 1\n",
    "T = 600  # K\n",
    "K = exp(15.541) * exp(-1453 / (T + 273.15))\n",
    "\n",
    "# Define symbols\n",
    "yS, yH, yE, nout, xi = sym.symbols('yS yH yE nout xi')\n",
    "\n",
    "# Define equations\n",
    "E1 = sym.Eq(nin * yEi - nout * yE, xi)\n",
    "E2 = sym.Eq(yS * nout, xi)\n",
    "E3 = sym.Eq(yH * nout, xi)\n",
    "E4 = sym.Eq((1 - yH - yS - yE) * nout, (1 - yEi) * nin)\n",
    "E5 = sym.Eq(p * yS * yH / yE, K)\n",
    "\n",
    "results = sym.solve([E1, E2, E3, E4, E5], (yS, yH, yE, nout, xi))\n",
    "real = results[1]\n",
    "\n",
    "conv = real[4]/(nin*yEi)*100 #% conversion\n",
    "print(conv)\n"
   ]
  },
  {
   "cell_type": "code",
   "execution_count": 17,
   "metadata": {},
   "outputs": [
    {
     "ename": "IndexError",
     "evalue": "list index out of range",
     "output_type": "error",
     "traceback": [
      "\u001b[1;31m---------------------------------------------------------------------------\u001b[0m",
      "\u001b[1;31mIndexError\u001b[0m                                Traceback (most recent call last)",
      "Cell \u001b[1;32mIn[17], line 23\u001b[0m\n\u001b[0;32m     21\u001b[0m \u001b[38;5;66;03m# Solve the system of equations\u001b[39;00m\n\u001b[0;32m     22\u001b[0m results \u001b[38;5;241m=\u001b[39m sym\u001b[38;5;241m.\u001b[39msolve([E1, E2, E3, E4, E5], (yS, yH, yE, nout, xi))\n\u001b[1;32m---> 23\u001b[0m real \u001b[38;5;241m=\u001b[39m results[\u001b[38;5;241m1\u001b[39m]\n\u001b[0;32m     25\u001b[0m conv \u001b[38;5;241m=\u001b[39m real[\u001b[38;5;241m4\u001b[39m]\u001b[38;5;241m/\u001b[39m(nin\u001b[38;5;241m*\u001b[39myEi)\u001b[38;5;241m*\u001b[39m\u001b[38;5;241m100\u001b[39m \u001b[38;5;66;03m#% conversion\u001b[39;00m\n\u001b[0;32m     26\u001b[0m YIELD\u001b[38;5;241m.\u001b[39mappend(conv)\n",
      "\u001b[1;31mIndexError\u001b[0m: list index out of range"
     ]
    }
   ],
   "source": [
    "YIELD = []\n",
    "Temp = []\n",
    "\n",
    "for i in range(300, 601, 25):\n",
    "    \n",
    "    nin = 100\n",
    "FR = 6\n",
    "yEi = 1 / (FR + 1)\n",
    "p = 1\n",
    "T = 600  # K\n",
    "K = exp(15.541) * exp(-1453 / (T + 273.15))\n",
    "yS, yH, yE, xi = sym.symbols('yS yH, nout, yE')\n",
    "\n",
    "# Define equations\n",
    "E1 = sym.Eq(nin * yEi - nout * yE, xi)\n",
    "E2 = sym.Eq(yS * nout, xi)\n",
    "E3 = sym.Eq(yH * nout, xi)\n",
    "E4 = sym.Eq((1 - yH - yS - yE) * nout, (1 - yEi) * nin)\n",
    "E5 = sym.Eq(p * yS * yH / yE, K)\n",
    "\n",
    "# Solve the system of equations\n",
    "results = sym.solve([E1, E2, E3, E4, E5], (yS, yH, yE, nout, xi))\n",
    "real = results[1]\n",
    "\n",
    "conv = real[4]/(nin*yEi)*100 #% conversion\n",
    "YIELD.append(conv)\n",
    "Temp.append(T)\n"
   ]
  },
  {
   "cell_type": "code",
   "execution_count": null,
   "metadata": {},
   "outputs": [],
   "source": [
    "print (Temp)\n",
    "print (YIELD)"
   ]
  },
  {
   "cell_type": "code",
   "execution_count": null,
   "metadata": {},
   "outputs": [],
   "source": [
    "plot = plt.plot(Temp, YIELD)\n",
    "plt.xlabel('Temperature (K)')"
   ]
  },
  {
   "cell_type": "code",
   "execution_count": null,
   "metadata": {},
   "outputs": [],
   "source": [
    "F = []\n",
    "Y = []\n",
    "\n",
    "for i in range(1, 11, 1):\n",
    "    nin = 100\n",
    "    FR = i\n",
    "    yEi = 1 / (FR + 1)\n",
    "    p = 1\n",
    "    T = 600  # K\n",
    "    K = exp(15.541) * exp(-1453 / (T + 273.15))\n",
    "    yS, yH, yE, xi = sym.symbols('yS yH, nout, yE')\n",
    "\n",
    "    E1 = sym.Eq(nin*yEi - nout*yE, xi)\n",
    "    E2 = sym.Eq(yS*nout, xi)\n",
    "    E3 = sym.Eq(yH*nout, xi)\n",
    "    E4 = sym.Eq(1-yH - yS - yE)*nout/(1-yEi, nin)\n",
    "    E5 = sym.Eq(P*yS*yH/yE, K)\n",
    "\n",
    "    results = sym.solve([E1, E2, E3, E4, E5], (yS, yH, yE, nout, xi))\n",
    "    real = results[1]\n",
    "\n",
    "    conv = real[4]/(nin*yEi)*100 #% conversion\n",
    "    F.append(conv)\n",
    "    Y.append(T)\n",
    "    \n",
    "    F.append(FR)\n",
    "    Y.append(YIELD)"
   ]
  },
  {
   "cell_type": "code",
   "execution_count": null,
   "metadata": {},
   "outputs": [],
   "source": [
    "print (Y)\n"
   ]
  },
  {
   "cell_type": "code",
   "execution_count": null,
   "metadata": {},
   "outputs": [],
   "source": [
    "plt.plot(Temp, Y[0][:], label='FR = 1')\n",
    "plt.plot(Temp, Y[1][:], label='FR = 3')\n",
    "plt.plot(Temp, Y[2][:], label='FR = 5')\n",
    "plt.plot(Temp, Y[3][:], label='FR = 7')\n",
    "plt.plot(Temp, Y[4][:], label='FR = 9')\n",
    "plt.plot(Temp, Y[5][:], label='FR = 11')\n",
    "plt.plot(Temp, Y[6][:], label='FR = 13')\n",
    "\n",
    "plt.legend()\n",
    "plt.label('Temperature (oC)', fontsize=12)\n",
    "plt.label('Yield (%)', fontsize=12)\n",
    "plt.xlim(300, 600)\n",
    "plt.ylim(0, 90)\n",
    "plt.minorticks_on()\n",
    "plt.title('styrene Yiled vs Temperature for different feed ratio (FR)')\n",
    "\n",
    "plt.annotate('FR = 1', xy=(470, 48), xytext=(540, 18), arrowprops=dict(facecolor='black', shrink=0.05)) \n"
   ]
  },
  {
   "cell_type": "markdown",
   "metadata": {},
   "source": [
    "Wwrite a python codes to make a heat map of our data; create contour map"
   ]
  }
 ],
 "metadata": {
  "kernelspec": {
   "display_name": "base",
   "language": "python",
   "name": "python3"
  },
  "language_info": {
   "codemirror_mode": {
    "name": "ipython",
    "version": 3
   },
   "file_extension": ".py",
   "mimetype": "text/x-python",
   "name": "python",
   "nbconvert_exporter": "python",
   "pygments_lexer": "ipython3",
   "version": "3.11.5"
  }
 },
 "nbformat": 4,
 "nbformat_minor": 2
}
